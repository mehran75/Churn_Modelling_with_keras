{
 "cells": [
  {
   "cell_type": "code",
   "execution_count": 40,
   "metadata": {},
   "outputs": [],
   "source": [
    "import numpy as np\n",
    "import matplotlib.pyplot as plt\n",
    "import pandas as pd\n",
    "from sklearn.preprocessing import LabelEncoder,OneHotEncoder,StandardScaler\n",
    "from sklearn.model_selection import train_test_split\n",
    "import keras\n",
    "from keras.models import Sequential\n",
    "from keras.layers import Dense\n",
    "from sklearn.metrics import confusion_matrix"
   ]
  },
  {
   "cell_type": "code",
   "execution_count": 41,
   "metadata": {},
   "outputs": [],
   "source": [
    "data = pd.read_csv('Churn_Modelling.csv')"
   ]
  },
  {
   "cell_type": "code",
   "execution_count": 42,
   "metadata": {},
   "outputs": [
    {
     "data": {
      "text/html": [
       "<div>\n",
       "<style scoped>\n",
       "    .dataframe tbody tr th:only-of-type {\n",
       "        vertical-align: middle;\n",
       "    }\n",
       "\n",
       "    .dataframe tbody tr th {\n",
       "        vertical-align: top;\n",
       "    }\n",
       "\n",
       "    .dataframe thead th {\n",
       "        text-align: right;\n",
       "    }\n",
       "</style>\n",
       "<table border=\"1\" class=\"dataframe\">\n",
       "  <thead>\n",
       "    <tr style=\"text-align: right;\">\n",
       "      <th></th>\n",
       "      <th>RowNumber</th>\n",
       "      <th>CustomerId</th>\n",
       "      <th>Surname</th>\n",
       "      <th>CreditScore</th>\n",
       "      <th>Geography</th>\n",
       "      <th>Gender</th>\n",
       "      <th>Age</th>\n",
       "      <th>Tenure</th>\n",
       "      <th>Balance</th>\n",
       "      <th>NumOfProducts</th>\n",
       "      <th>HasCrCard</th>\n",
       "      <th>IsActiveMember</th>\n",
       "      <th>EstimatedSalary</th>\n",
       "      <th>Exited</th>\n",
       "    </tr>\n",
       "  </thead>\n",
       "  <tbody>\n",
       "    <tr>\n",
       "      <th>0</th>\n",
       "      <td>1</td>\n",
       "      <td>15634602</td>\n",
       "      <td>Hargrave</td>\n",
       "      <td>619</td>\n",
       "      <td>France</td>\n",
       "      <td>Female</td>\n",
       "      <td>42</td>\n",
       "      <td>2</td>\n",
       "      <td>0.00</td>\n",
       "      <td>1</td>\n",
       "      <td>1</td>\n",
       "      <td>1</td>\n",
       "      <td>101348.88</td>\n",
       "      <td>1</td>\n",
       "    </tr>\n",
       "    <tr>\n",
       "      <th>1</th>\n",
       "      <td>2</td>\n",
       "      <td>15647311</td>\n",
       "      <td>Hill</td>\n",
       "      <td>608</td>\n",
       "      <td>Spain</td>\n",
       "      <td>Female</td>\n",
       "      <td>41</td>\n",
       "      <td>1</td>\n",
       "      <td>83807.86</td>\n",
       "      <td>1</td>\n",
       "      <td>0</td>\n",
       "      <td>1</td>\n",
       "      <td>112542.58</td>\n",
       "      <td>0</td>\n",
       "    </tr>\n",
       "    <tr>\n",
       "      <th>2</th>\n",
       "      <td>3</td>\n",
       "      <td>15619304</td>\n",
       "      <td>Onio</td>\n",
       "      <td>502</td>\n",
       "      <td>France</td>\n",
       "      <td>Female</td>\n",
       "      <td>42</td>\n",
       "      <td>8</td>\n",
       "      <td>159660.80</td>\n",
       "      <td>3</td>\n",
       "      <td>1</td>\n",
       "      <td>0</td>\n",
       "      <td>113931.57</td>\n",
       "      <td>1</td>\n",
       "    </tr>\n",
       "    <tr>\n",
       "      <th>3</th>\n",
       "      <td>4</td>\n",
       "      <td>15701354</td>\n",
       "      <td>Boni</td>\n",
       "      <td>699</td>\n",
       "      <td>France</td>\n",
       "      <td>Female</td>\n",
       "      <td>39</td>\n",
       "      <td>1</td>\n",
       "      <td>0.00</td>\n",
       "      <td>2</td>\n",
       "      <td>0</td>\n",
       "      <td>0</td>\n",
       "      <td>93826.63</td>\n",
       "      <td>0</td>\n",
       "    </tr>\n",
       "    <tr>\n",
       "      <th>4</th>\n",
       "      <td>5</td>\n",
       "      <td>15737888</td>\n",
       "      <td>Mitchell</td>\n",
       "      <td>850</td>\n",
       "      <td>Spain</td>\n",
       "      <td>Female</td>\n",
       "      <td>43</td>\n",
       "      <td>2</td>\n",
       "      <td>125510.82</td>\n",
       "      <td>1</td>\n",
       "      <td>1</td>\n",
       "      <td>1</td>\n",
       "      <td>79084.10</td>\n",
       "      <td>0</td>\n",
       "    </tr>\n",
       "  </tbody>\n",
       "</table>\n",
       "</div>"
      ],
      "text/plain": [
       "   RowNumber  CustomerId   Surname  CreditScore Geography  Gender  Age  \\\n",
       "0          1    15634602  Hargrave          619    France  Female   42   \n",
       "1          2    15647311      Hill          608     Spain  Female   41   \n",
       "2          3    15619304      Onio          502    France  Female   42   \n",
       "3          4    15701354      Boni          699    France  Female   39   \n",
       "4          5    15737888  Mitchell          850     Spain  Female   43   \n",
       "\n",
       "   Tenure    Balance  NumOfProducts  HasCrCard  IsActiveMember  \\\n",
       "0       2       0.00              1          1               1   \n",
       "1       1   83807.86              1          0               1   \n",
       "2       8  159660.80              3          1               0   \n",
       "3       1       0.00              2          0               0   \n",
       "4       2  125510.82              1          1               1   \n",
       "\n",
       "   EstimatedSalary  Exited  \n",
       "0        101348.88       1  \n",
       "1        112542.58       0  \n",
       "2        113931.57       1  \n",
       "3         93826.63       0  \n",
       "4         79084.10       0  "
      ]
     },
     "execution_count": 42,
     "metadata": {},
     "output_type": "execute_result"
    }
   ],
   "source": [
    "data.head()"
   ]
  },
  {
   "cell_type": "code",
   "execution_count": 43,
   "metadata": {},
   "outputs": [],
   "source": [
    "X = data.iloc[:,3:13].values\n",
    "Y = data.iloc[:,13].values"
   ]
  },
  {
   "cell_type": "code",
   "execution_count": 44,
   "metadata": {},
   "outputs": [
    {
     "data": {
      "text/plain": [
       "array([1, 0, 1, ..., 1, 1, 0])"
      ]
     },
     "execution_count": 44,
     "metadata": {},
     "output_type": "execute_result"
    }
   ],
   "source": [
    "Y"
   ]
  },
  {
   "cell_type": "markdown",
   "metadata": {},
   "source": [
    "# Encoding Categorical Data "
   ]
  },
  {
   "cell_type": "code",
   "execution_count": 45,
   "metadata": {},
   "outputs": [],
   "source": [
    "label_encoder_X_1 = LabelEncoder()\n",
    "X[:,1] = label_encoder_X_1.fit_transform(X[:,1])"
   ]
  },
  {
   "cell_type": "code",
   "execution_count": 46,
   "metadata": {},
   "outputs": [],
   "source": [
    "label_encoder_X_2 = LabelEncoder()\n",
    "X[:,2] = label_encoder_X_2.fit_transform(X[:,2])"
   ]
  },
  {
   "cell_type": "code",
   "execution_count": 47,
   "metadata": {},
   "outputs": [],
   "source": [
    "one_hot_encoder = OneHotEncoder(categorical_features=[1])\n",
    "X = one_hot_encoder.fit_transform(X).toarray()"
   ]
  },
  {
   "cell_type": "markdown",
   "metadata": {},
   "source": [
    " ## Tran-Test split"
   ]
  },
  {
   "cell_type": "code",
   "execution_count": 48,
   "metadata": {},
   "outputs": [],
   "source": [
    "X_train, X_test, y_train, y_test = train_test_split(X, Y, test_size=0.2, random_state=42)"
   ]
  },
  {
   "cell_type": "markdown",
   "metadata": {},
   "source": [
    "# Feature Scaling"
   ]
  },
  {
   "cell_type": "code",
   "execution_count": 49,
   "metadata": {},
   "outputs": [],
   "source": [
    "sc = StandardScaler()"
   ]
  },
  {
   "cell_type": "code",
   "execution_count": 50,
   "metadata": {},
   "outputs": [],
   "source": [
    "X_train = sc.fit_transform(X_train)"
   ]
  },
  {
   "cell_type": "code",
   "execution_count": 51,
   "metadata": {},
   "outputs": [],
   "source": [
    "X_test = sc.transform(X_test)"
   ]
  },
  {
   "cell_type": "markdown",
   "metadata": {},
   "source": [
    "## Initialize ANN"
   ]
  },
  {
   "cell_type": "code",
   "execution_count": 27,
   "metadata": {},
   "outputs": [],
   "source": [
    "classifier = Sequential()"
   ]
  },
  {
   "cell_type": "markdown",
   "metadata": {},
   "source": [
    "## Add Layers"
   ]
  },
  {
   "cell_type": "code",
   "execution_count": 32,
   "metadata": {},
   "outputs": [],
   "source": [
    "# input layer\n",
    "classifier.add(Dense(units=6,kernel_initializer='uniform',activation='relu',input_dim=11))\n",
    "# hidden layer\n",
    "classifier.add(Dense(units=6,kernel_initializer='uniform',activation='relu'))\n",
    "# output layer\n",
    "classifier.add(Dense(units=1,kernel_initializer='uniform',activation='sigmoid'))"
   ]
  },
  {
   "cell_type": "markdown",
   "metadata": {},
   "source": [
    "## Compiling the ANN "
   ]
  },
  {
   "cell_type": "code",
   "execution_count": 33,
   "metadata": {},
   "outputs": [],
   "source": [
    "classifier.compile(optimizer='adam',loss='binary_crossentropy',metrics=['accuracy'])"
   ]
  },
  {
   "cell_type": "markdown",
   "metadata": {},
   "source": [
    "## Fitting The ANN to  the training set"
   ]
  },
  {
   "cell_type": "code",
   "execution_count": 35,
   "metadata": {},
   "outputs": [
    {
     "name": "stdout",
     "output_type": "stream",
     "text": [
      "Epoch 1/100\n",
      "8000/8000 [==============================] - 1s 126us/step - loss: 0.5081 - acc: 0.7945\n",
      "Epoch 2/100\n",
      "8000/8000 [==============================] - 1s 127us/step - loss: 0.5081 - acc: 0.7945\n",
      "Epoch 3/100\n",
      "8000/8000 [==============================] - 1s 126us/step - loss: 0.5081 - acc: 0.7945\n",
      "Epoch 4/100\n",
      "8000/8000 [==============================] - 1s 124us/step - loss: 0.5081 - acc: 0.7945\n",
      "Epoch 5/100\n",
      "8000/8000 [==============================] - 1s 126us/step - loss: 0.5081 - acc: 0.7945\n",
      "Epoch 6/100\n",
      "8000/8000 [==============================] - 1s 138us/step - loss: 0.5081 - acc: 0.7945\n",
      "Epoch 7/100\n",
      "8000/8000 [==============================] - 1s 136us/step - loss: 0.5081 - acc: 0.7945\n",
      "Epoch 8/100\n",
      "8000/8000 [==============================] - 1s 136us/step - loss: 0.5081 - acc: 0.7945\n",
      "Epoch 9/100\n",
      "8000/8000 [==============================] - 1s 173us/step - loss: 0.5081 - acc: 0.7945\n",
      "Epoch 10/100\n",
      "8000/8000 [==============================] - 1s 149us/step - loss: 0.5080 - acc: 0.7945\n",
      "Epoch 11/100\n",
      "8000/8000 [==============================] - 2s 190us/step - loss: 0.5082 - acc: 0.7945\n",
      "Epoch 12/100\n",
      "8000/8000 [==============================] - 1s 117us/step - loss: 0.5081 - acc: 0.7945\n",
      "Epoch 13/100\n",
      "8000/8000 [==============================] - 1s 118us/step - loss: 0.5081 - acc: 0.7945\n",
      "Epoch 14/100\n",
      "8000/8000 [==============================] - 1s 125us/step - loss: 0.5081 - acc: 0.7945\n",
      "Epoch 15/100\n",
      "8000/8000 [==============================] - 1s 131us/step - loss: 0.5081 - acc: 0.7945\n",
      "Epoch 16/100\n",
      "8000/8000 [==============================] - 1s 131us/step - loss: 0.5082 - acc: 0.7945\n",
      "Epoch 17/100\n",
      "8000/8000 [==============================] - 1s 141us/step - loss: 0.5081 - acc: 0.7945\n",
      "Epoch 18/100\n",
      "8000/8000 [==============================] - 1s 133us/step - loss: 0.5081 - acc: 0.7945\n",
      "Epoch 19/100\n",
      "8000/8000 [==============================] - 1s 128us/step - loss: 0.5081 - acc: 0.7945\n",
      "Epoch 20/100\n",
      "8000/8000 [==============================] - 1s 128us/step - loss: 0.5081 - acc: 0.7945\n",
      "Epoch 21/100\n",
      "8000/8000 [==============================] - 1s 129us/step - loss: 0.5081 - acc: 0.7945\n",
      "Epoch 22/100\n",
      "8000/8000 [==============================] - 1s 143us/step - loss: 0.5081 - acc: 0.7945\n",
      "Epoch 23/100\n",
      "8000/8000 [==============================] - 1s 132us/step - loss: 0.5081 - acc: 0.7945\n",
      "Epoch 24/100\n",
      "8000/8000 [==============================] - 1s 129us/step - loss: 0.5080 - acc: 0.7945\n",
      "Epoch 25/100\n",
      "8000/8000 [==============================] - 1s 128us/step - loss: 0.5081 - acc: 0.7945\n",
      "Epoch 26/100\n",
      "8000/8000 [==============================] - 1s 141us/step - loss: 0.5080 - acc: 0.7945\n",
      "Epoch 27/100\n",
      "8000/8000 [==============================] - 1s 126us/step - loss: 0.5082 - acc: 0.7945\n",
      "Epoch 28/100\n",
      "8000/8000 [==============================] - 1s 128us/step - loss: 0.5081 - acc: 0.7945\n",
      "Epoch 29/100\n",
      "8000/8000 [==============================] - 1s 134us/step - loss: 0.5081 - acc: 0.7945\n",
      "Epoch 30/100\n",
      "8000/8000 [==============================] - 1s 161us/step - loss: 0.5080 - acc: 0.7945\n",
      "Epoch 31/100\n",
      "8000/8000 [==============================] - 1s 154us/step - loss: 0.5081 - acc: 0.7945\n",
      "Epoch 32/100\n",
      "8000/8000 [==============================] - 1s 126us/step - loss: 0.5081 - acc: 0.7945\n",
      "Epoch 33/100\n",
      "8000/8000 [==============================] - 1s 165us/step - loss: 0.5080 - acc: 0.7945\n",
      "Epoch 34/100\n",
      "8000/8000 [==============================] - 1s 134us/step - loss: 0.5081 - acc: 0.7945\n",
      "Epoch 35/100\n",
      "8000/8000 [==============================] - 1s 139us/step - loss: 0.5081 - acc: 0.7945\n",
      "Epoch 36/100\n",
      "8000/8000 [==============================] - 1s 132us/step - loss: 0.5081 - acc: 0.7945\n",
      "Epoch 37/100\n",
      "8000/8000 [==============================] - 1s 175us/step - loss: 0.5081 - acc: 0.7945\n",
      "Epoch 38/100\n",
      "8000/8000 [==============================] - 1s 151us/step - loss: 0.5080 - acc: 0.7945\n",
      "Epoch 39/100\n",
      "8000/8000 [==============================] - 1s 141us/step - loss: 0.5082 - acc: 0.7945\n",
      "Epoch 40/100\n",
      "8000/8000 [==============================] - 1s 144us/step - loss: 0.5082 - acc: 0.7945\n",
      "Epoch 41/100\n",
      "8000/8000 [==============================] - 1s 132us/step - loss: 0.5081 - acc: 0.7945\n",
      "Epoch 42/100\n",
      "8000/8000 [==============================] - 1s 142us/step - loss: 0.5081 - acc: 0.7945\n",
      "Epoch 43/100\n",
      "8000/8000 [==============================] - 1s 140us/step - loss: 0.5080 - acc: 0.7945\n",
      "Epoch 44/100\n",
      "8000/8000 [==============================] - 1s 137us/step - loss: 0.5082 - acc: 0.7945\n",
      "Epoch 45/100\n",
      "8000/8000 [==============================] - 1s 146us/step - loss: 0.5081 - acc: 0.7945\n",
      "Epoch 46/100\n",
      "8000/8000 [==============================] - 1s 157us/step - loss: 0.5080 - acc: 0.7945\n",
      "Epoch 47/100\n",
      "8000/8000 [==============================] - 1s 124us/step - loss: 0.5081 - acc: 0.7945\n",
      "Epoch 48/100\n",
      "8000/8000 [==============================] - 1s 116us/step - loss: 0.5079 - acc: 0.7945\n",
      "Epoch 49/100\n",
      "8000/8000 [==============================] - 1s 117us/step - loss: 0.5082 - acc: 0.7945\n",
      "Epoch 50/100\n",
      "8000/8000 [==============================] - 1s 117us/step - loss: 0.5082 - acc: 0.7945\n",
      "Epoch 51/100\n",
      "8000/8000 [==============================] - 1s 120us/step - loss: 0.5080 - acc: 0.7945\n",
      "Epoch 52/100\n",
      "8000/8000 [==============================] - 1s 119us/step - loss: 0.5082 - acc: 0.7945\n",
      "Epoch 53/100\n",
      "8000/8000 [==============================] - 1s 122us/step - loss: 0.5081 - acc: 0.7945\n",
      "Epoch 54/100\n",
      "8000/8000 [==============================] - 1s 117us/step - loss: 0.5081 - acc: 0.7945\n",
      "Epoch 55/100\n",
      "8000/8000 [==============================] - 1s 114us/step - loss: 0.5081 - acc: 0.7945\n",
      "Epoch 56/100\n",
      "8000/8000 [==============================] - 1s 118us/step - loss: 0.5082 - acc: 0.7945\n",
      "Epoch 57/100\n",
      "8000/8000 [==============================] - 1s 117us/step - loss: 0.5081 - acc: 0.7945\n",
      "Epoch 58/100\n",
      "8000/8000 [==============================] - 1s 121us/step - loss: 0.5080 - acc: 0.7945\n",
      "Epoch 59/100\n",
      "8000/8000 [==============================] - 1s 120us/step - loss: 0.5081 - acc: 0.7945\n",
      "Epoch 60/100\n",
      "8000/8000 [==============================] - 1s 124us/step - loss: 0.5081 - acc: 0.7945\n",
      "Epoch 61/100\n",
      "8000/8000 [==============================] - 1s 118us/step - loss: 0.5082 - acc: 0.7945\n",
      "Epoch 62/100\n",
      "8000/8000 [==============================] - 1s 117us/step - loss: 0.5081 - acc: 0.7945\n",
      "Epoch 63/100\n",
      "8000/8000 [==============================] - 1s 119us/step - loss: 0.5081 - acc: 0.7945\n",
      "Epoch 64/100\n",
      "8000/8000 [==============================] - 1s 119us/step - loss: 0.5081 - acc: 0.7945\n",
      "Epoch 65/100\n",
      "8000/8000 [==============================] - 1s 117us/step - loss: 0.5082 - acc: 0.7945\n",
      "Epoch 66/100\n",
      "8000/8000 [==============================] - 1s 120us/step - loss: 0.5080 - acc: 0.7945\n",
      "Epoch 67/100\n",
      "8000/8000 [==============================] - 1s 120us/step - loss: 0.5081 - acc: 0.7945\n",
      "Epoch 68/100\n",
      "8000/8000 [==============================] - 1s 120us/step - loss: 0.5082 - acc: 0.7945\n",
      "Epoch 69/100\n",
      "8000/8000 [==============================] - 1s 120us/step - loss: 0.5081 - acc: 0.7945\n",
      "Epoch 70/100\n",
      "8000/8000 [==============================] - 1s 119us/step - loss: 0.5081 - acc: 0.7945\n",
      "Epoch 71/100\n",
      "8000/8000 [==============================] - 1s 123us/step - loss: 0.5081 - acc: 0.7945\n",
      "Epoch 72/100\n",
      "8000/8000 [==============================] - 1s 124us/step - loss: 0.5080 - acc: 0.7945\n",
      "Epoch 73/100\n",
      "8000/8000 [==============================] - 1s 121us/step - loss: 0.5082 - acc: 0.7945\n",
      "Epoch 74/100\n",
      "8000/8000 [==============================] - 1s 121us/step - loss: 0.5081 - acc: 0.7945\n",
      "Epoch 75/100\n",
      "8000/8000 [==============================] - 1s 121us/step - loss: 0.5081 - acc: 0.7945\n",
      "Epoch 76/100\n",
      "8000/8000 [==============================] - 1s 122us/step - loss: 0.5081 - acc: 0.7945\n",
      "Epoch 77/100\n",
      "8000/8000 [==============================] - 1s 122us/step - loss: 0.5081 - acc: 0.7945\n",
      "Epoch 78/100\n",
      "8000/8000 [==============================] - 1s 129us/step - loss: 0.5080 - acc: 0.7945\n",
      "Epoch 79/100\n",
      "8000/8000 [==============================] - 1s 123us/step - loss: 0.5081 - acc: 0.7945\n",
      "Epoch 80/100\n",
      "8000/8000 [==============================] - 1s 122us/step - loss: 0.5081 - acc: 0.7945\n",
      "Epoch 81/100\n",
      "8000/8000 [==============================] - 1s 121us/step - loss: 0.5081 - acc: 0.7945\n",
      "Epoch 82/100\n"
     ]
    },
    {
     "name": "stdout",
     "output_type": "stream",
     "text": [
      "8000/8000 [==============================] - 1s 101us/step - loss: 0.5081 - acc: 0.7945\n",
      "Epoch 83/100\n",
      "8000/8000 [==============================] - 1s 98us/step - loss: 0.5081 - acc: 0.7945\n",
      "Epoch 84/100\n",
      "8000/8000 [==============================] - 1s 106us/step - loss: 0.5081 - acc: 0.7945\n",
      "Epoch 85/100\n",
      "8000/8000 [==============================] - 1s 106us/step - loss: 0.5081 - acc: 0.7945\n",
      "Epoch 86/100\n",
      "8000/8000 [==============================] - 1s 105us/step - loss: 0.5081 - acc: 0.7945\n",
      "Epoch 87/100\n",
      "8000/8000 [==============================] - 1s 98us/step - loss: 0.5082 - acc: 0.7945\n",
      "Epoch 88/100\n",
      "8000/8000 [==============================] - 1s 98us/step - loss: 0.5081 - acc: 0.7945\n",
      "Epoch 89/100\n",
      "8000/8000 [==============================] - 1s 106us/step - loss: 0.5081 - acc: 0.7945\n",
      "Epoch 90/100\n",
      "8000/8000 [==============================] - 1s 106us/step - loss: 0.5081 - acc: 0.7945\n",
      "Epoch 91/100\n",
      "8000/8000 [==============================] - 1s 106us/step - loss: 0.5081 - acc: 0.7945\n",
      "Epoch 92/100\n",
      "8000/8000 [==============================] - 1s 115us/step - loss: 0.5081 - acc: 0.7945\n",
      "Epoch 93/100\n",
      "8000/8000 [==============================] - 1s 126us/step - loss: 0.5080 - acc: 0.7945\n",
      "Epoch 94/100\n",
      "8000/8000 [==============================] - 1s 99us/step - loss: 0.5081 - acc: 0.7945\n",
      "Epoch 95/100\n",
      "8000/8000 [==============================] - 1s 101us/step - loss: 0.5080 - acc: 0.7945\n",
      "Epoch 96/100\n",
      "8000/8000 [==============================] - 1s 100us/step - loss: 0.5081 - acc: 0.7945\n",
      "Epoch 97/100\n",
      "8000/8000 [==============================] - 1s 99us/step - loss: 0.5080 - acc: 0.7945\n",
      "Epoch 98/100\n",
      "8000/8000 [==============================] - 1s 110us/step - loss: 0.5081 - acc: 0.7945\n",
      "Epoch 99/100\n",
      "8000/8000 [==============================] - 1s 102us/step - loss: 0.5081 - acc: 0.7945\n",
      "Epoch 100/100\n",
      "8000/8000 [==============================] - 1s 101us/step - loss: 0.5082 - acc: 0.7945\n"
     ]
    },
    {
     "data": {
      "text/plain": [
       "<keras.callbacks.History at 0x7fd803286b00>"
      ]
     },
     "execution_count": 35,
     "metadata": {},
     "output_type": "execute_result"
    }
   ],
   "source": [
    "classifier.fit(X_train,y_train,batch_size=10,epochs=100)"
   ]
  },
  {
   "cell_type": "markdown",
   "metadata": {},
   "source": [
    "## Evaluate and Prediction"
   ]
  },
  {
   "cell_type": "code",
   "execution_count": 36,
   "metadata": {},
   "outputs": [],
   "source": [
    "y_pred = classifier.predict(X_test)"
   ]
  },
  {
   "cell_type": "code",
   "execution_count": 52,
   "metadata": {},
   "outputs": [
    {
     "data": {
      "text/plain": [
       "array([[False],\n",
       "       [False],\n",
       "       [False],\n",
       "       ...,\n",
       "       [False],\n",
       "       [False],\n",
       "       [False]])"
      ]
     },
     "execution_count": 52,
     "metadata": {},
     "output_type": "execute_result"
    }
   ],
   "source": [
    "y_pred = (y_pred > .5)\n",
    "y_pred"
   ]
  },
  {
   "cell_type": "code",
   "execution_count": 53,
   "metadata": {},
   "outputs": [],
   "source": [
    "cm = confusion_matrix(y_test,y_pred)"
   ]
  },
  {
   "cell_type": "code",
   "execution_count": 54,
   "metadata": {},
   "outputs": [
    {
     "data": {
      "text/plain": [
       "array([[1607,    0],\n",
       "       [ 393,    0]])"
      ]
     },
     "execution_count": 54,
     "metadata": {},
     "output_type": "execute_result"
    }
   ],
   "source": [
    "cm"
   ]
  },
  {
   "cell_type": "code",
   "execution_count": 56,
   "metadata": {},
   "outputs": [
    {
     "data": {
      "text/plain": [
       "0.8035"
      ]
     },
     "execution_count": 56,
     "metadata": {},
     "output_type": "execute_result"
    }
   ],
   "source": [
    "# Accuracy\n",
    "(1607 + 0)/2000"
   ]
  },
  {
   "cell_type": "code",
   "execution_count": null,
   "metadata": {},
   "outputs": [],
   "source": []
  }
 ],
 "metadata": {
  "kernelspec": {
   "display_name": "Python 3",
   "language": "python",
   "name": "python3"
  },
  "language_info": {
   "codemirror_mode": {
    "name": "ipython",
    "version": 3
   },
   "file_extension": ".py",
   "mimetype": "text/x-python",
   "name": "python",
   "nbconvert_exporter": "python",
   "pygments_lexer": "ipython3",
   "version": "3.6.5"
  }
 },
 "nbformat": 4,
 "nbformat_minor": 2
}
